{
 "cells": [
  {
   "cell_type": "markdown",
   "metadata": {},
   "source": [
    "Import modules"
   ]
  },
  {
   "cell_type": "code",
   "execution_count": null,
   "metadata": {},
   "outputs": [],
   "source": [
    "from serverless_openai import OpenAIAPI, Message, Messages, Roles, VisionMessage, Similarity, ScrapingBeeAPI"
   ]
  },
  {
   "cell_type": "markdown",
   "metadata": {},
   "source": [
    "Initialize OpenAIAPI with API Key"
   ]
  },
  {
   "cell_type": "code",
   "execution_count": null,
   "metadata": {},
   "outputs": [],
   "source": [
    "api_key = 'API_KEY_HERE'\n",
    "ai = OpenAIAPI(api_key=api_key)"
   ]
  },
  {
   "cell_type": "markdown",
   "metadata": {},
   "source": [
    "Test Chat Completion"
   ]
  },
  {
   "cell_type": "code",
   "execution_count": null,
   "metadata": {},
   "outputs": [],
   "source": [
    "message = Message(\n",
    "                    role=Roles.system,\n",
    "                    content=\"You are an AI Assistant, give names of babies\"\n",
    "                )\n",
    "messages = Messages(messages=[message])\n",
    "res = ai.chat_completion(messages=messages)\n",
    "print(res)"
   ]
  },
  {
   "cell_type": "markdown",
   "metadata": {},
   "source": [
    "Test Tools Function"
   ]
  },
  {
   "cell_type": "code",
   "execution_count": null,
   "metadata": {},
   "outputs": [],
   "source": [
    "tool_name = \"names_function\"\n",
    "tools = [{\n",
    "    \"type\": \"function\",\n",
    "    \"function\": {\n",
    "        \"name\": tool_name,\n",
    "        \"parameters\": {\n",
    "            \"type\": \"object\",\n",
    "            \"properties\": {\n",
    "                \"names\": {\n",
    "                    \"type\": \"array\",\n",
    "                    \"description\": \"names of babies\",\n",
    "                    \"items\": {\n",
    "                        \"type\": \"string\"\n",
    "                    }\n",
    "                }\n",
    "            },\n",
    "            \"required\": [\"names\"]\n",
    "        }\n",
    "    }\n",
    "\n",
    "}]\n",
    "message = Message(\n",
    "                role=Roles.system,\n",
    "                content=\"You are an AI Assistant, give names of babies, Return the results in JSON format\"\n",
    "            )\n",
    "messages = Messages(messages=[message])\n",
    "res2 = ai.tools(messages=messages, tools=tools, tool_choice=tool_name)\n",
    "print(res2)"
   ]
  },
  {
   "cell_type": "markdown",
   "metadata": {},
   "source": [
    "Test Dall-E-3"
   ]
  },
  {
   "cell_type": "code",
   "execution_count": null,
   "metadata": {},
   "outputs": [],
   "source": [
    "prompt = \"Create a logo for a band\"\n",
    "res3 = ai.dall_e(prompt=prompt)\n",
    "print(res3)"
   ]
  },
  {
   "cell_type": "markdown",
   "metadata": {},
   "source": [
    "Test Vision"
   ]
  },
  {
   "cell_type": "code",
   "execution_count": null,
   "metadata": {},
   "outputs": [],
   "source": [
    "\n",
    "vm = VisionMessage(text=\"What is this?\", image=\"https://pyxis.nymag.com/v1/imgs/3f2/189/bdc677d26060d9e41f0cd0171034c762e7-therock2.1x.rsquare.w1400.png\")\n",
    "res4 = ai.vision(messages=vm, max_tokens=2048)\n",
    "print(res4)"
   ]
  },
  {
   "cell_type": "markdown",
   "metadata": {},
   "source": [
    "If your image is in your local"
   ]
  },
  {
   "cell_type": "code",
   "execution_count": null,
   "metadata": {},
   "outputs": [],
   "source": [
    "vm = VisionMessage(text=\"What is this?\", image=\"images/test.png\")\n",
    "res4 = ai.vision(messages=vm, max_tokens=2048)\n",
    "print(res4)"
   ]
  },
  {
   "cell_type": "code",
   "execution_count": null,
   "metadata": {},
   "outputs": [],
   "source": [
    "# url = \"https://payperclickppcmanagement.com/images/www.zerocompany.com_.png\"\n",
    "url = \"saved_images/aw.png\"\n",
    "vm = VisionMessage(text=\"What is this?\", image=url)\n",
    "res_long = ai.vision_longimage(messages=vm, max_tokens=2048)\n",
    "print(res_long)"
   ]
  },
  {
   "cell_type": "markdown",
   "metadata": {},
   "source": [
    "Test Embeddings"
   ]
  },
  {
   "cell_type": "code",
   "execution_count": null,
   "metadata": {},
   "outputs": [],
   "source": [
    "prompt = \"Black cat\"\n",
    "res5 = ai.embeddings(prompt=prompt)\n",
    "print(len(res5))\n",
    "\n",
    "prompt_list = [\"Black cat\", \"apple\", \"white Cat\", \"Red Cat\"]\n",
    "\n",
    "res6 = ai.embeddings(prompt=prompt_list)\n",
    "print(len(res6))\n",
    "\n",
    "sim = Similarity(vector=res5, matrix=res6)\n",
    "result_list = ai.cosine_similarity(sim, prompt_list)\n",
    "print(result_list)"
   ]
  },
  {
   "cell_type": "markdown",
   "metadata": {},
   "source": [
    "Test Scraping using ScrapingBee"
   ]
  },
  {
   "cell_type": "code",
   "execution_count": null,
   "metadata": {},
   "outputs": [],
   "source": [
    "scrpbee_api_key = 'API_KEY_HERE'\n",
    "url = 'https://www.geeksforgeeks.org'\n",
    "scrbee = ScrapingBeeAPI(api_key=scrpbee_api_key)\n",
    "res7 = scrbee.scrape(url=url)"
   ]
  },
  {
   "cell_type": "code",
   "execution_count": null,
   "metadata": {},
   "outputs": [],
   "source": [
    "print(res7['body'])"
   ]
  },
  {
   "cell_type": "markdown",
   "metadata": {},
   "source": [
    "If you want to get the links"
   ]
  },
  {
   "cell_type": "code",
   "execution_count": null,
   "metadata": {},
   "outputs": [],
   "source": [
    "scrpbee_api_key = 'API_KEY_HERE'\n",
    "url = 'https://www.geeksforgeeks.org'\n",
    "scrbee = ScrapingBeeAPI(api_key=scrpbee_api_key)\n",
    "res7 = scrbee.scrape(url=url, get_links=True)"
   ]
  },
  {
   "cell_type": "code",
   "execution_count": null,
   "metadata": {},
   "outputs": [],
   "source": [
    "print(res7['body'])\n",
    "\n",
    "print(res7['links'])"
   ]
  },
  {
   "cell_type": "markdown",
   "metadata": {},
   "source": [
    "To Download an Image:"
   ]
  },
  {
   "cell_type": "code",
   "execution_count": null,
   "metadata": {},
   "outputs": [],
   "source": [
    "from serverless_openai import urlimage_to_np\n",
    "\n",
    "img_url = \"https://cdn.sanity.io/images/c1chvb1i/production/7fe0204b8235066f179619a3ff8a97f2fceb8608-1100x735.jpg\"\n",
    "filename = \"travis_scott.png\"\n",
    "urlimage_to_np(img_url, save_image=True, filename=filename)"
   ]
  }
 ],
 "metadata": {
  "kernelspec": {
   "display_name": "venv",
   "language": "python",
   "name": "python3"
  },
  "language_info": {
   "name": "python",
   "version": "3.8.10"
  }
 },
 "nbformat": 4,
 "nbformat_minor": 2
}
