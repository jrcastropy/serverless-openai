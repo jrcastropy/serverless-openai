{
 "cells": [
  {
   "cell_type": "markdown",
   "metadata": {},
   "source": [
    "Test Chat Completion"
   ]
  },
  {
   "cell_type": "code",
   "execution_count": null,
   "metadata": {},
   "outputs": [],
   "source": [
    "from serverless_openai import OpenAIAPI, Message, Messages, Roles\n",
    "import os\n",
    "\n",
    "# Initialize OpenAIAPI with API Key\n",
    "openai_api_key = os.getenv(\"openai_api_key\")\n",
    "# openai_api_key = 'API_KEY_HERE'\n",
    "ai = OpenAIAPI(api_key=openai_api_key)\n",
    "\n",
    "message = Message(\n",
    "                    role=Roles.system,\n",
    "                    content=\"You are an AI Assistant, give names of babies\"\n",
    "                )\n",
    "messages = Messages(messages=[message])\n",
    "res = ai.chat_completion(messages=messages)\n",
    "# Actual result\n",
    "print(res.result)\n",
    "\n",
    "# Other details from the result in Dictionary format\n",
    "print(res.result_json)"
   ]
  },
  {
   "cell_type": "markdown",
   "metadata": {},
   "source": [
    "Test Tools Function"
   ]
  },
  {
   "cell_type": "code",
   "execution_count": null,
   "metadata": {},
   "outputs": [],
   "source": [
    "from serverless_openai import OpenAIAPI, Message, Messages, Roles\n",
    "from serverless_openai.helpers import checkoutput_init\n",
    "import os\n",
    "\n",
    "# Initialize OpenAIAPI with API Key\n",
    "openai_api_key = os.getenv(\"openai_api_key\")\n",
    "# openai_api_key = 'API_KEY_HERE'\n",
    "ai = OpenAIAPI(api_key=openai_api_key)\n",
    "\n",
    "tool_name = \"names_function\"\n",
    "tools = [{\n",
    "    \"type\": \"function\",\n",
    "    \"function\": {\n",
    "        \"name\": tool_name,\n",
    "        \"parameters\": {\n",
    "            \"type\": \"object\",\n",
    "            \"properties\": {\n",
    "                \"names\": {\n",
    "                    \"type\": \"array\",\n",
    "                    \"description\": \"names of babies\",\n",
    "                    \"minItems\": 150,\n",
    "                    \"items\": {\n",
    "                        \"type\": \"string\"\n",
    "                    }\n",
    "                }\n",
    "            },\n",
    "            \"required\": [\"names\"]\n",
    "        }\n",
    "    }\n",
    "\n",
    "}]\n",
    "message = Message(\n",
    "                role=Roles.system,\n",
    "                content=\"You are an AI Assistant, give names of babies, Return the results in JSON format\"\n",
    "            )\n",
    "messages = Messages(messages=[message])\n",
    "res = ai.tools(messages=messages, tools=tools, tool_choice=tool_name, apply_min_item=True)\n",
    "\n",
    "# Actual result\n",
    "print(res.result)\n",
    "\n",
    "# Other details from the result in Dictionary format\n",
    "print(res.result_json)\n",
    "\n"
   ]
  },
  {
   "cell_type": "markdown",
   "metadata": {},
   "source": [
    "Test Dall-E-3"
   ]
  },
  {
   "cell_type": "code",
   "execution_count": null,
   "metadata": {},
   "outputs": [],
   "source": [
    "from serverless_openai import OpenAIAPI\n",
    "import os\n",
    "\n",
    "# Initialize OpenAIAPI with API Key\n",
    "openai_api_key = os.getenv(\"openai_api_key\")\n",
    "# openai_api_key = 'API_KEY_HERE'\n",
    "ai = OpenAIAPI(api_key=openai_api_key)\n",
    "\n",
    "prompt = \"Create a logo for a band\"\n",
    "res = ai.dall_e(prompt=prompt) # Default style is \"natural\"\n",
    "\n",
    "# Actual result\n",
    "print(res.result)\n",
    "\n",
    "# Other details from the result in Dictionary format\n",
    "print(res.result_json)\n",
    "\n",
    "from IPython import display\n",
    "display.HTML(f'<img src=\"{res.result}\"/>')"
   ]
  },
  {
   "cell_type": "markdown",
   "metadata": {},
   "source": [
    "Style is \"Vivid\""
   ]
  },
  {
   "cell_type": "code",
   "execution_count": null,
   "metadata": {},
   "outputs": [],
   "source": [
    "from serverless_openai import OpenAIAPI\n",
    "import os\n",
    "\n",
    "# Initialize OpenAIAPI with API Key\n",
    "openai_api_key = os.getenv(\"openai_api_key\")\n",
    "# openai_api_key = 'API_KEY_HERE'\n",
    "ai = OpenAIAPI(api_key=openai_api_key)\n",
    "\n",
    "prompt = \"Create a logo for a band\"\n",
    "res = ai.dall_e(prompt=prompt, style=\"vivid\", quality=\"hd\")\n",
    "\n",
    "# Actual result\n",
    "print(res.result)\n",
    "\n",
    "# Other details from the result in Dictionary format\n",
    "print(res.result_json)\n",
    "\n",
    "from IPython import display\n",
    "display.HTML(f'<img src=\"{res.result}\"/>')"
   ]
  },
  {
   "cell_type": "markdown",
   "metadata": {},
   "source": [
    "Returns format in Base64"
   ]
  },
  {
   "cell_type": "code",
   "execution_count": null,
   "metadata": {},
   "outputs": [],
   "source": [
    "from serverless_openai import OpenAIAPI\n",
    "import os\n",
    "\n",
    "# Initialize OpenAIAPI with API Key\n",
    "openai_api_key = os.getenv(\"openai_api_key\")\n",
    "# openai_api_key = 'API_KEY_HERE'\n",
    "ai = OpenAIAPI(api_key=openai_api_key)\n",
    "\n",
    "prompt = \"Create a logo for a band\"\n",
    "res = ai.dall_e(prompt=prompt, style=\"vivid\", response_format=\"b64_json\")\n",
    "\n",
    "# Actual result\n",
    "print(len(res.result))\n",
    "print(res.result[:10])\n",
    "\n",
    "from IPython import display\n",
    "from base64 import b64decode\n",
    "\n",
    "display.Image(b64decode(res.result))"
   ]
  },
  {
   "cell_type": "markdown",
   "metadata": {},
   "source": [
    "Test Vision"
   ]
  },
  {
   "cell_type": "code",
   "execution_count": null,
   "metadata": {},
   "outputs": [],
   "source": [
    "from serverless_openai import OpenAIAPI, VisionMessage\n",
    "import os\n",
    "\n",
    "# Initialize OpenAIAPI with API Key\n",
    "openai_api_key = os.getenv(\"openai_api_key\")\n",
    "# openai_api_key = 'API_KEY_HERE'\n",
    "ai = OpenAIAPI(api_key=openai_api_key)\n",
    "\n",
    "vm = VisionMessage(text=\"What is this?\", image=\"https://pyxis.nymag.com/v1/imgs/3f2/189/bdc677d26060d9e41f0cd0171034c762e7-therock2.1x.rsquare.w1400.png\")\n",
    "res = ai.vision(messages=vm, max_tokens=2048)\n",
    "\n",
    "# Actual result\n",
    "print(res.result)\n",
    "\n",
    "# Other details from the result in Dictionary format\n",
    "print(res.result_json)"
   ]
  },
  {
   "cell_type": "markdown",
   "metadata": {},
   "source": [
    "If your image is in your local"
   ]
  },
  {
   "cell_type": "code",
   "execution_count": 10,
   "metadata": {},
   "outputs": [
    {
     "name": "stdout",
     "output_type": "stream",
     "text": [
      "To create a database schema as illustrated in the diagram, the MySQL code below defines each table and sets up foreign keys as appropriate:\n",
      "\n",
      "```sql\n",
      "-- Create dim_region table\n",
      "CREATE TABLE dim_region (\n",
      "  id INT PRIMARY KEY,\n",
      "  region VARCHAR(255)\n",
      ");\n",
      "\n",
      "-- Create dim_country table\n",
      "CREATE TABLE dim_country (\n",
      "  id INT PRIMARY KEY,\n",
      "  country VARCHAR(255),\n",
      "  ctry_cd VARCHAR(255),\n",
      "  region_id INT,\n",
      "  pop_id INT,\n",
      "  FOREIGN KEY (region_id) REFERENCES dim_region(id)\n",
      ");\n",
      "\n",
      "-- Create dim_population table\n",
      "CREATE TABLE dim_population (\n",
      "  id INT PRIMARY KEY,\n",
      "  pop_1m VARCHAR(255)\n",
      ");\n",
      "\n",
      "-- Create dim_virus_family table\n",
      "CREATE TABLE dim_virus_family (\n",
      "  id INT PRIMARY KEY,\n",
      "  name VARCHAR(255)\n",
      ");\n",
      "\n",
      "-- Create dim_virus table\n",
      "CREATE TABLE dim_virus (\n",
      "  id INT PRIMARY KEY,\n",
      "  name VARCHAR(255),\n",
      "  family_id INT,\n",
      "  type_id INT,\n",
      "  infect_rate FLOAT,\n",
      "  FOREIGN KEY (family_id) REFERENCES dim_virus_family(id)\n",
      ");\n",
      "\n",
      "-- Create dim_transmission table\n",
      "CREATE TABLE dim_transmission (\n",
      "  id INT PRIMARY KEY,\n",
      "  type VARCHAR(255)\n",
      ");\n",
      "\n",
      "-- Create dim_year table\n",
      "CREATE TABLE dim_year (\n",
      "  id INT PRIMARY KEY,\n",
      "  year INT\n",
      ");\n",
      "\n",
      "-- Create dim_month table\n",
      "CREATE TABLE dim_month (\n",
      "  id INT PRIMARY KEY,\n",
      "  name VARCHAR(255)\n",
      ");\n",
      "\n",
      "-- Create dim_day table\n",
      "CREATE TABLE dim_day (\n",
      "  id INT PRIMARY KEY,\n",
      "  name VARCHAR(255)\n",
      ");\n",
      "\n",
      "-- Create dim_dates table\n",
      "CREATE TABLE dim_dates (\n",
      "  id INT PRIMARY KEY,\n",
      "  year_id INT,\n",
      "  month_id INT,\n",
      "  day_id INT,\n",
      "  start_dt DATE,\n",
      "  FOREIGN KEY (year_id) REFERENCES dim_year(id),\n",
      "  FOREIGN KEY (month_id) REFERENCES dim_month(id),\n",
      "  FOREIGN KEY (day_id) REFERENCES dim_day(id)\n",
      ");\n",
      "\n",
      "-- Create fact_pandemic table\n",
      "CREATE TABLE fact_pandemic (\n",
      "  dates_id INT,\n",
      "  virus_id INT,\n",
      "  location_id INT,\n",
      "  cases_cnt INT,\n",
      "  new_cases_per1m INT,\n",
      "  recovered_cnt INT,\n",
      "  death_cnt INT,\n",
      "  PRIMARY KEY (dates_id, virus_id, location_id),\n",
      "  FOREIGN KEY (dates_id) REFERENCES dim_dates(id),\n",
      "  FOREIGN KEY (virus_id) REFERENCES dim_virus(id),\n",
      "  FOREIGN KEY (location_id) REFERENCES dim_country(id)\n",
      ");\n",
      "```\n",
      "\n",
      "### Additional Notes:\n",
      "1. **Data Types**: Adjust the data types if necessary, especially for IDs, which could be `AUTO_INCREMENT` if you expect the database to generate unique IDs automatically.\n",
      "2. **Cascade Operations**: Consider using `ON DELETE` and `ON UPDATE` rules for the foreign keys if your database needs to handle deletions and updates of related records.\n",
      "3. **Indexes**: Depending on your queries, add appropriate indexes to improve performance, especially on foreign keys and frequently queried fields.\n",
      "4. **Integrity**: Ensure there's an operational database schema versioning, rollbacks, or migration strategy to manage structural changes smoothly.\n",
      "\n",
      "This schema setup will create a relational database that mirrors the relationships and entities outlined in your diagram. Adjust further as per specific performance or business requirements.\n",
      "{'id': 'chatcmpl-9NFGKIj33ZkVP8EZ10R164hEErjiq', 'object': 'chat.completion', 'created': 1715327240, 'model': 'gpt-4-turbo-2024-04-09', 'choices': [{'index': 0, 'message': {'role': 'assistant', 'content': \"To create a database schema as illustrated in the diagram, the MySQL code below defines each table and sets up foreign keys as appropriate:\\n\\n```sql\\n-- Create dim_region table\\nCREATE TABLE dim_region (\\n  id INT PRIMARY KEY,\\n  region VARCHAR(255)\\n);\\n\\n-- Create dim_country table\\nCREATE TABLE dim_country (\\n  id INT PRIMARY KEY,\\n  country VARCHAR(255),\\n  ctry_cd VARCHAR(255),\\n  region_id INT,\\n  pop_id INT,\\n  FOREIGN KEY (region_id) REFERENCES dim_region(id)\\n);\\n\\n-- Create dim_population table\\nCREATE TABLE dim_population (\\n  id INT PRIMARY KEY,\\n  pop_1m VARCHAR(255)\\n);\\n\\n-- Create dim_virus_family table\\nCREATE TABLE dim_virus_family (\\n  id INT PRIMARY KEY,\\n  name VARCHAR(255)\\n);\\n\\n-- Create dim_virus table\\nCREATE TABLE dim_virus (\\n  id INT PRIMARY KEY,\\n  name VARCHAR(255),\\n  family_id INT,\\n  type_id INT,\\n  infect_rate FLOAT,\\n  FOREIGN KEY (family_id) REFERENCES dim_virus_family(id)\\n);\\n\\n-- Create dim_transmission table\\nCREATE TABLE dim_transmission (\\n  id INT PRIMARY KEY,\\n  type VARCHAR(255)\\n);\\n\\n-- Create dim_year table\\nCREATE TABLE dim_year (\\n  id INT PRIMARY KEY,\\n  year INT\\n);\\n\\n-- Create dim_month table\\nCREATE TABLE dim_month (\\n  id INT PRIMARY KEY,\\n  name VARCHAR(255)\\n);\\n\\n-- Create dim_day table\\nCREATE TABLE dim_day (\\n  id INT PRIMARY KEY,\\n  name VARCHAR(255)\\n);\\n\\n-- Create dim_dates table\\nCREATE TABLE dim_dates (\\n  id INT PRIMARY KEY,\\n  year_id INT,\\n  month_id INT,\\n  day_id INT,\\n  start_dt DATE,\\n  FOREIGN KEY (year_id) REFERENCES dim_year(id),\\n  FOREIGN KEY (month_id) REFERENCES dim_month(id),\\n  FOREIGN KEY (day_id) REFERENCES dim_day(id)\\n);\\n\\n-- Create fact_pandemic table\\nCREATE TABLE fact_pandemic (\\n  dates_id INT,\\n  virus_id INT,\\n  location_id INT,\\n  cases_cnt INT,\\n  new_cases_per1m INT,\\n  recovered_cnt INT,\\n  death_cnt INT,\\n  PRIMARY KEY (dates_id, virus_id, location_id),\\n  FOREIGN KEY (dates_id) REFERENCES dim_dates(id),\\n  FOREIGN KEY (virus_id) REFERENCES dim_virus(id),\\n  FOREIGN KEY (location_id) REFERENCES dim_country(id)\\n);\\n```\\n\\n### Additional Notes:\\n1. **Data Types**: Adjust the data types if necessary, especially for IDs, which could be `AUTO_INCREMENT` if you expect the database to generate unique IDs automatically.\\n2. **Cascade Operations**: Consider using `ON DELETE` and `ON UPDATE` rules for the foreign keys if your database needs to handle deletions and updates of related records.\\n3. **Indexes**: Depending on your queries, add appropriate indexes to improve performance, especially on foreign keys and frequently queried fields.\\n4. **Integrity**: Ensure there's an operational database schema versioning, rollbacks, or migration strategy to manage structural changes smoothly.\\n\\nThis schema setup will create a relational database that mirrors the relationships and entities outlined in your diagram. Adjust further as per specific performance or business requirements.\"}, 'logprobs': None, 'finish_reason': 'stop'}], 'usage': {'prompt_tokens': 787, 'completion_tokens': 652, 'total_tokens': 1439}, 'system_fingerprint': 'fp_0737e0dfd9'}\n"
     ]
    }
   ],
   "source": [
    "from serverless_openai import OpenAIAPI, VisionMessage\n",
    "import os\n",
    "\n",
    "# Initialize OpenAIAPI with API Key\n",
    "openai_api_key = os.getenv(\"openai_api_key\")\n",
    "# openai_api_key = 'API_KEY_HERE'\n",
    "ai = OpenAIAPI(api_key=openai_api_key)\n",
    "\n",
    "vm = VisionMessage(text=\"Generate a MySQL code to create this database schema with parent id as foreign key\", image=\"images/db_schema.png\")\n",
    "res = ai.vision(messages=vm, max_tokens=2048)\n",
    "\n",
    "# Actual result\n",
    "print(res.result)\n",
    "\n",
    "# Other details from the result in Dictionary format\n",
    "print(res.result_json)"
   ]
  },
  {
   "cell_type": "markdown",
   "metadata": {},
   "source": [
    "Test Vision with long Images"
   ]
  },
  {
   "cell_type": "code",
   "execution_count": 11,
   "metadata": {},
   "outputs": [
    {
     "name": "stdout",
     "output_type": "stream",
     "text": [
      "The images you provided show different examples of digital materials and scenarios:\n",
      "\n",
      "1. **Zero Company Marketing Website**: This image is a screenshot of a digital marketing agency’s website named Zero Company. The web page highlights services and credentials of the company, including its position as a Google Premier Partner, and the different digital advertising services it offers such as Google Ads Management, Social Media Campaigns, and YouTube Advertising. The page also features customer testimonials and the effectiveness of their marketing strategies by showing significant numbers of clicks, conversions, and impressions they've achieved.\n",
      "\n",
      "2. **Print Marketing Material**: This design layout features promotional material for a heavy-duty truck rack. It's presented as a part of a mockup that includes the original graphic design and some design elements such as color palettes and textures. This kind of layout is typically used in product brochures or digital advertisements.\n",
      "\n",
      "3. **Photographing a Road Bridge at Sunset**: The third image captures a person using an older model of a mobile phone to take a photo of a bridge at sunset. This image illustrates a simple moment of photography possibly capturing the vanishing perspective of the road under the bridge during the twilight hours.\n",
      "\n",
      "Each of these images represents a different aspect of graphic design and digital marketing, showcasing how both physical and digital designs are used to communicate messages and capture moments.\n",
      "{'id': 'chatcmpl-9NFH9Fh3OngARaAJTixsMUP5NrfZk', 'object': 'chat.completion', 'created': 1715327291, 'model': 'gpt-4-turbo-2024-04-09', 'choices': [{'index': 0, 'message': {'role': 'assistant', 'content': \"The images you provided show different examples of digital materials and scenarios:\\n\\n1. **Zero Company Marketing Website**: This image is a screenshot of a digital marketing agency’s website named Zero Company. The web page highlights services and credentials of the company, including its position as a Google Premier Partner, and the different digital advertising services it offers such as Google Ads Management, Social Media Campaigns, and YouTube Advertising. The page also features customer testimonials and the effectiveness of their marketing strategies by showing significant numbers of clicks, conversions, and impressions they've achieved.\\n\\n2. **Print Marketing Material**: This design layout features promotional material for a heavy-duty truck rack. It's presented as a part of a mockup that includes the original graphic design and some design elements such as color palettes and textures. This kind of layout is typically used in product brochures or digital advertisements.\\n\\n3. **Photographing a Road Bridge at Sunset**: The third image captures a person using an older model of a mobile phone to take a photo of a bridge at sunset. This image illustrates a simple moment of photography possibly capturing the vanishing perspective of the road under the bridge during the twilight hours.\\n\\nEach of these images represents a different aspect of graphic design and digital marketing, showcasing how both physical and digital designs are used to communicate messages and capture moments.\"}, 'logprobs': None, 'finish_reason': 'stop'}], 'usage': {'prompt_tokens': 5876, 'completion_tokens': 264, 'total_tokens': 6140}, 'system_fingerprint': 'fp_0737e0dfd9'}\n"
     ]
    }
   ],
   "source": [
    "from serverless_openai import OpenAIAPI, VisionMessage\n",
    "import os\n",
    "\n",
    "# Initialize OpenAIAPI with API Key\n",
    "openai_api_key = os.getenv(\"openai_api_key\")\n",
    "# openai_api_key = 'API_KEY_HERE'\n",
    "ai = OpenAIAPI(api_key=openai_api_key)\n",
    "\n",
    "url = \"images/test2.png\"\n",
    "url2 = \"images/test.png\"\n",
    "url3 = \"https://aicmo-bucket.s3.amazonaws.com/vision-cmo/8688398Image_created_with_a_mobile_phone.png\"\n",
    "vm = VisionMessage(text=\"What is this?\", image=[url, url2, url3])\n",
    "res = ai.vision_longimage(messages=vm, max_tokens=2048)\n",
    "\n",
    "# Actual result\n",
    "print(res.result)\n",
    "\n",
    "# Other details from the result in Dictionary format\n",
    "print(res.result_json)"
   ]
  },
  {
   "cell_type": "markdown",
   "metadata": {},
   "source": [
    "Test Vision with tools calling"
   ]
  },
  {
   "cell_type": "code",
   "execution_count": null,
   "metadata": {},
   "outputs": [],
   "source": [
    "from serverless_openai import OpenAIAPI, VisionMessage\n",
    "import os\n",
    "\n",
    "# Initialize OpenAIAPI with API Key\n",
    "openai_api_key = os.getenv(\"openai_api_key\")\n",
    "# openai_api_key = 'API_KEY_HERE'\n",
    "ai = OpenAIAPI(api_key=openai_api_key)\n",
    "\n",
    "tool_name = \"details_function\"\n",
    "tools = [{\n",
    "    \"type\": \"function\",\n",
    "    \"function\": {\n",
    "        \"name\": tool_name,\n",
    "        \"parameters\": {\n",
    "            \"type\": \"object\",\n",
    "            \"properties\": {\n",
    "                \"in_depth_details\": {\n",
    "                    \"type\": \"array\",\n",
    "                    \"description\": \"In-depth details of the images provided by the user\",\n",
    "                    \"items\": {\n",
    "                        \"type\": \"string\"\n",
    "                    }\n",
    "                }\n",
    "            },\n",
    "            \"required\": [\"in_depth_details\"]\n",
    "        }\n",
    "    }\n",
    "\n",
    "}]\n",
    "\n",
    "# url = \"images/test2.png\"\n",
    "url2 = \"images/test.png\"\n",
    "url3 = \"https://aicmo-bucket.s3.amazonaws.com/vision-cmo/8688398Image_created_with_a_mobile_phone.png\"\n",
    "# vm = VisionMessage(text=\"What is this?\", image=[url, url2, url3])\n",
    "vm = VisionMessage(text=\"Give in-depth details of the image, return results in JSON format\", image=[url3, url2])\n",
    "res = ai.vision_tools(messages=vm, tools=tools, tool_choice=tool_name)\n",
    "\n",
    "# Actual result\n",
    "print(res.result)\n",
    "\n",
    "# Other details from the result in Dictionary format\n",
    "print(res.result_json)"
   ]
  },
  {
   "cell_type": "code",
   "execution_count": 9,
   "metadata": {},
   "outputs": [
    {
     "name": "stdout",
     "output_type": "stream",
     "text": [
      "This image shows a perspective of a road leading straight ahead under a bridge, taken during twilight. The photo captures the moment through another smaller mobile device held in a person's hand, which includes part of their black sleeve. The surrounding environment appears to be open and quiet with signs of recent construction, as indicated by the presence of barriers and freshly poured concrete.\n"
     ]
    }
   ],
   "source": [
    "print(res.result['in_depth_details'][0])"
   ]
  },
  {
   "cell_type": "code",
   "execution_count": 5,
   "metadata": {},
   "outputs": [
    {
     "data": {
      "text/plain": [
       "['An image of a graphic design project featuring a rugged truck equipped with a heavy-duty rack presented in a poster format. The composition includes various elements related to design presentation such as color palettes, material swatches, and sectional views of the rack.',\n",
       " 'An image capturing a person holding up a smartphone to photograph a sunset scene over a road leading to a bridge. The perspective is from behind the person, focusing on the phone screen showing the image being captured and the actual scene ahead.']"
      ]
     },
     "execution_count": 5,
     "metadata": {},
     "output_type": "execute_result"
    }
   ],
   "source": [
    "res.result['in_depth_details']"
   ]
  },
  {
   "cell_type": "markdown",
   "metadata": {},
   "source": [
    "Test Embeddings"
   ]
  },
  {
   "cell_type": "code",
   "execution_count": null,
   "metadata": {},
   "outputs": [],
   "source": [
    "from serverless_openai import OpenAIAPI, Similarity\n",
    "from serverless_openai.helpers import cosine_similarity\n",
    "import os, json\n",
    "\n",
    "# Initialize OpenAIAPI with API Key\n",
    "openai_api_key = os.getenv(\"openai_api_key\")\n",
    "# openai_api_key = 'API_KEY_HERE'\n",
    "ai = OpenAIAPI(api_key=openai_api_key)\n",
    "\n",
    "prompt = \"Black cat\"\n",
    "res1 = ai.embeddings(prompt=prompt)\n",
    "\n",
    "\n",
    "prompt_list = [\"Black cat\", \"apple\", \"white Cat\", \"Red Cat\"]\n",
    "res2 = ai.embeddings(prompt=prompt_list)\n",
    "\n",
    "if res1.result and res2.result:\n",
    "    print(\"# of embeddings for the first vector:\", len(res1.result))\n",
    "    print(\"# of embeddings for the second vector:\",len(res2.result))\n",
    "\n",
    "    sim = Similarity(vector=res1.result, matrix=res2.result)\n",
    "    result_list = cosine_similarity(sim, prompt_list)\n",
    "    print(\"Results:\", json.dumps(result_list, indent=4))"
   ]
  },
  {
   "cell_type": "markdown",
   "metadata": {},
   "source": [
    "Use embeddings with new models and dimensions"
   ]
  },
  {
   "cell_type": "code",
   "execution_count": null,
   "metadata": {},
   "outputs": [],
   "source": [
    "from serverless_openai import OpenAIAPI, Similarity\n",
    "from serverless_openai.helpers import cosine_similarity\n",
    "import os, json\n",
    "\n",
    "# Initialize OpenAIAPI with API Key\n",
    "openai_api_key = os.getenv(\"openai_api_key\")\n",
    "# openai_api_key = 'API_KEY_HERE'\n",
    "ai = OpenAIAPI(api_key=openai_api_key)\n",
    "\n",
    "model = \"text-embedding-3-small\"\n",
    "\n",
    "prompt = \"Black cat\"\n",
    "res1 = ai.embeddings(prompt=prompt, model=model, dimensions=512)\n",
    "# vector = [m[:512] for m in res1.result]\n",
    "print(len(res1.result[0]))\n",
    "\n",
    "\n",
    "prompt_list = [\"Black cat\", \"apple\", \"white Cat\", \"Red Cat\", \"Black cat\", \"apple\", \"white Cat\", \"Red Cat\"]\n",
    "res2 = ai.embeddings(prompt=prompt_list, model=model, dimensions=512)\n",
    "# matrix = [m[:512] for m in res2.result]\n",
    "if res1.result and res2.result:\n",
    "    print(\"# of embeddings for the first vector:\", len(res1.result))\n",
    "    print(\"# of embeddings for the second vector:\",len(res2.result))\n",
    "\n",
    "    sim = Similarity(vector=res1.result, matrix=res2.result)\n",
    "    result_list = cosine_similarity(sim, prompt_list, topn=10)\n",
    "    print(\"Results:\", json.dumps(result_list, indent=4))"
   ]
  },
  {
   "cell_type": "markdown",
   "metadata": {},
   "source": [
    "Test Moderation"
   ]
  },
  {
   "cell_type": "code",
   "execution_count": null,
   "metadata": {},
   "outputs": [],
   "source": [
    "from serverless_openai import OpenAIAPI\n",
    "import os\n",
    "\n",
    "# Initialize OpenAIAPI with API Key\n",
    "openai_api_key = os.getenv(\"openai_api_key\")\n",
    "# openai_api_key = 'API_KEY_HERE'\n",
    "ai = OpenAIAPI(api_key=openai_api_key)\n",
    "\n",
    "# model = \"text-embedding-3-small\"\n",
    "\n",
    "prompt = \"Black cat\"\n",
    "res = ai.moderation(prompt=prompt)\n",
    "# vector = [m[:512] for m in res1.result]\n",
    "print(res.result)"
   ]
  },
  {
   "cell_type": "code",
   "execution_count": null,
   "metadata": {},
   "outputs": [],
   "source": [
    "res.result_json\n"
   ]
  },
  {
   "cell_type": "markdown",
   "metadata": {},
   "source": [
    "Test Scraping using ScrapingBee"
   ]
  },
  {
   "cell_type": "code",
   "execution_count": null,
   "metadata": {},
   "outputs": [],
   "source": [
    "from serverless_openai import ScrapingBeeAPI\n",
    "import os\n",
    "\n",
    "# Initialize OpenAIAPI with API Key\n",
    "scrapingbee_api_key = os.getenv(\"scrapingbee_api_key\")\n",
    "url = 'https://www.geeksforgeeks.org'\n",
    "scrbee = ScrapingBeeAPI(api_key=scrapingbee_api_key)\n",
    "res7 = scrbee.scrape(url=url)\n",
    "\n",
    "# Print the scraped body\n",
    "print(res7['body'])"
   ]
  },
  {
   "cell_type": "markdown",
   "metadata": {},
   "source": [
    "If you want to get the links"
   ]
  },
  {
   "cell_type": "code",
   "execution_count": null,
   "metadata": {},
   "outputs": [],
   "source": [
    "from serverless_openai import ScrapingBeeAPI\n",
    "import os\n",
    "\n",
    "# Initialize OpenAIAPI with API Key\n",
    "scrapingbee_api_key = os.getenv(\"scrapingbee_api_key\")\n",
    "url = 'https://cars.com'\n",
    "scrbee = ScrapingBeeAPI(api_key=scrapingbee_api_key)\n",
    "res7 = scrbee.scrape(url=url, get_links=True)\n",
    "\n",
    "# Print the scraped body\n",
    "print(res7['body'])\n",
    "\n",
    "# Print the scraped links\n",
    "print(res7['links'])"
   ]
  },
  {
   "cell_type": "markdown",
   "metadata": {},
   "source": [
    "To Download an Image:"
   ]
  },
  {
   "cell_type": "code",
   "execution_count": null,
   "metadata": {},
   "outputs": [],
   "source": [
    "from serverless_openai import urlimage_to_np\n",
    "\n",
    "img_url = \"https://cdn.sanity.io/images/c1chvb1i/production/7fe0204b8235066f179619a3ff8a97f2fceb8608-1100x735.jpg\"\n",
    "filename = \"travis_scott.png\"\n",
    "\n",
    "# This will be saved in directory called \"saved_images\"\n",
    "urlimage_to_np(img_url, save_image=True, filename=filename)"
   ]
  }
 ],
 "metadata": {
  "kernelspec": {
   "display_name": "venv",
   "language": "python",
   "name": "python3"
  },
  "language_info": {
   "codemirror_mode": {
    "name": "ipython",
    "version": 3
   },
   "file_extension": ".py",
   "mimetype": "text/x-python",
   "name": "python",
   "nbconvert_exporter": "python",
   "pygments_lexer": "ipython3",
   "version": "3.12.2"
  }
 },
 "nbformat": 4,
 "nbformat_minor": 2
}
